{
 "cells": [
  {
   "cell_type": "code",
   "execution_count": 1,
   "metadata": {
    "collapsed": true
   },
   "outputs": [],
   "source": [
    "import math\n",
    "import numpy as np \n",
    "import pandas as pd\n",
    "import matplotlib.pyplot as plt\n",
    "import seaborn as sns\n",
    "from sklearn.metrics import confusion_matrix , accuracy_score , classification_report\n",
    "from sklearn import datasets"
   ]
  },
  {
   "cell_type": "code",
   "execution_count": 2,
   "metadata": {},
   "outputs": [
    {
     "data": {
      "text/html": [
       "<div>\n",
       "<style>\n",
       "    .dataframe thead tr:only-child th {\n",
       "        text-align: right;\n",
       "    }\n",
       "\n",
       "    .dataframe thead th {\n",
       "        text-align: left;\n",
       "    }\n",
       "\n",
       "    .dataframe tbody tr th {\n",
       "        vertical-align: top;\n",
       "    }\n",
       "</style>\n",
       "<table border=\"1\" class=\"dataframe\">\n",
       "  <thead>\n",
       "    <tr style=\"text-align: right;\">\n",
       "      <th></th>\n",
       "      <th>sepal length (cm)</th>\n",
       "      <th>sepal width (cm)</th>\n",
       "      <th>petal length (cm)</th>\n",
       "      <th>petal width (cm)</th>\n",
       "    </tr>\n",
       "  </thead>\n",
       "  <tbody>\n",
       "    <tr>\n",
       "      <th>0</th>\n",
       "      <td>5.1</td>\n",
       "      <td>3.5</td>\n",
       "      <td>1.4</td>\n",
       "      <td>0.2</td>\n",
       "    </tr>\n",
       "    <tr>\n",
       "      <th>1</th>\n",
       "      <td>4.9</td>\n",
       "      <td>3.0</td>\n",
       "      <td>1.4</td>\n",
       "      <td>0.2</td>\n",
       "    </tr>\n",
       "    <tr>\n",
       "      <th>2</th>\n",
       "      <td>4.7</td>\n",
       "      <td>3.2</td>\n",
       "      <td>1.3</td>\n",
       "      <td>0.2</td>\n",
       "    </tr>\n",
       "    <tr>\n",
       "      <th>3</th>\n",
       "      <td>4.6</td>\n",
       "      <td>3.1</td>\n",
       "      <td>1.5</td>\n",
       "      <td>0.2</td>\n",
       "    </tr>\n",
       "    <tr>\n",
       "      <th>4</th>\n",
       "      <td>5.0</td>\n",
       "      <td>3.6</td>\n",
       "      <td>1.4</td>\n",
       "      <td>0.2</td>\n",
       "    </tr>\n",
       "  </tbody>\n",
       "</table>\n",
       "</div>"
      ],
      "text/plain": [
       "   sepal length (cm)  sepal width (cm)  petal length (cm)  petal width (cm)\n",
       "0                5.1               3.5                1.4               0.2\n",
       "1                4.9               3.0                1.4               0.2\n",
       "2                4.7               3.2                1.3               0.2\n",
       "3                4.6               3.1                1.5               0.2\n",
       "4                5.0               3.6                1.4               0.2"
      ]
     },
     "execution_count": 2,
     "metadata": {},
     "output_type": "execute_result"
    }
   ],
   "source": [
    "iris = datasets.load_iris()\n",
    "df_array = iris.data\n",
    "col_names = iris.feature_names\n",
    "df_pd = pd.DataFrame(df_array , columns = col_names , index = None)\n",
    "df_pd.head()"
   ]
  },
  {
   "cell_type": "code",
   "execution_count": 3,
   "metadata": {},
   "outputs": [
    {
     "data": {
      "image/png": "[encoded data removed]",
      "text/plain": [
       "<matplotlib.figure.Figure at 0x200b2c49f98>"
      ]
     },
     "metadata": {},
     "output_type": "display_data"
    },
    {
     "data": {
      "image/png": "[encoded data removed]",
      "text/plain": [
       "<matplotlib.figure.Figure at 0x200b3186128>"
      ]
     },
     "metadata": {},
     "output_type": "display_data"
    }
   ],
   "source": [
    "plt.figure(1)\n",
    "plt.subplot(211)\n",
    "plt.scatter( df_pd[\"sepal width (cm)\"],df_pd[\"sepal length (cm)\"] , c = \"black\" ,s = 5)\n",
    "plt.xlabel(\"sepal width\")\n",
    "plt.ylabel(\"sepal length\")\n",
    "plt.show()\n",
    "plt.figure(1)\n",
    "plt.subplot(212)\n",
    "plt.scatter(df_pd['petal width (cm)'] , df_pd['petal length (cm)'] , c = \"black\" , s = 5 )\n",
    "plt.xlabel(\"petal width\")\n",
    "plt.ylabel(\"petal length\")\n",
    "plt.show()"
   ]
  },
  {
   "cell_type": "markdown",
   "metadata": {},
   "source": [
    "<h3>Random initialization of Cluster Centroids.</h3>"
   ]
  },
  {
   "cell_type": "code",
   "execution_count": 5,
   "metadata": {
    "collapsed": true
   },
   "outputs": [],
   "source": [
    "def cluster_centroids_random_initializations(x , k = 2):\n",
    "    c_x = np.random.uniform(np.min(x) , np.max(x)  , size = k )\n",
    "    c = np.array(c_x).T\n",
    "    \n",
    "    return c\n",
    "\n",
    "def random_clusters( x , k ):\n",
    "    length = len(x)\n",
    "    \n",
    "    c = pd.DataFrame()\n",
    "    \n",
    "    centroid = cluster_centroids_random_initializations(x , k = k)\n",
    "    centroid = np.array(sorted(centroid))\n",
    "      \n",
    "    ind = []\n",
    "    ccc = []\n",
    "    for i in range(length):\n",
    "        distance =  [np.linalg.norm(x[i] - c)**2 for c in centroid]\n",
    "        min_dist = np.min(distance)\n",
    "        ind.append(i)\n",
    "        ccc.append(np.linalg.norm(centroid[distance.index(min_dist)])) \n",
    "    c[\"index\"] = ind\n",
    "    c[\"closest_cc\"] = ccc\n",
    "    return c , centroid"
   ]
  },
  {
   "cell_type": "markdown",
   "metadata": {},
   "source": [
    "<h3>Creating different Clusters using cluster centroids.</h3>"
   ]
  },
  {
   "cell_type": "code",
   "execution_count": 6,
   "metadata": {
    "collapsed": true
   },
   "outputs": [],
   "source": [
    "def clusters( x  , centroids):\n",
    "    length = len(x)\n",
    "    \n",
    "    c = pd.DataFrame()\n",
    "\n",
    "    centroid = centroids\n",
    "        \n",
    "    ind = []\n",
    "    ccc = []\n",
    "    label = []\n",
    "    \n",
    "    for i in range(length):\n",
    "        distance =  [np.linalg.norm(x[i] - c)**2 for c in centroid]\n",
    "        min_dist = np.min(distance)\n",
    "        ind.append(i)\n",
    "        ccc.append(np.linalg.norm(centroid[distance.index(min_dist)])) \n",
    "        label.append(distance.index(min_dist))\n",
    "    c[\"index\"] = ind\n",
    "    c[\"closest_cc\"] = ccc\n",
    "    c[\"label\"] = label\n",
    "    return c , centroid"
   ]
  },
  {
   "cell_type": "markdown",
   "metadata": {},
   "source": [
    "<h3>Moving Centroids.</h3>"
   ]
  },
  {
   "cell_type": "code",
   "execution_count": 7,
   "metadata": {
    "collapsed": true
   },
   "outputs": [],
   "source": [
    "def moving_centroids(x ,clusters,centroids):\n",
    "    clusters[\"x\"] = x\n",
    "    new_centroids = []\n",
    "    for i in centroids:\n",
    "        new_centroids.append(np.mean(clusters[\"x\"][clusters[\"closest_cc\"] == i]))\n",
    "    return np.array(new_centroids).T"
   ]
  },
  {
   "cell_type": "markdown",
   "metadata": {},
   "source": [
    "<h2>K means</h2>"
   ]
  },
  {
   "cell_type": "code",
   "execution_count": 8,
   "metadata": {
    "collapsed": true
   },
   "outputs": [],
   "source": [
    "def kmean(x ,k = 2 , n_iters = 100 , randm_clust_iters = 10):\n",
    "    outputs = pd.DataFrame()\n",
    "    pred_y = []\n",
    "    for col in x.columns.values:\n",
    "        for i in range(randm_clust_iters):\n",
    "            clust , centroids =  random_clusters(x[col] , k = k) \n",
    "            \n",
    "        for iters in range(n_iters):\n",
    "            \n",
    "            new_centroids = moving_centroids(x[col] , clust , centroids )\n",
    "            if sum(new_centroids) == sum(centroids):\n",
    "                break\n",
    "            centroids =  new_centroids\n",
    "            clust , c = clusters(x[col] , centroids)\n",
    "        outputs[col] = clust[\"label\"]\n",
    "    for i in range(len(outputs)):\n",
    "        pred_y.append(pd.DataFrame(np.array(outputs)[i].tolist()).mode()[0][0])\n",
    "    return pred_y"
   ]
  },
  {
   "cell_type": "markdown",
   "metadata": {},
   "source": [
    "<h3>Output</h3>"
   ]
  },
  {
   "cell_type": "code",
   "execution_count": 18,
   "metadata": {
    "collapsed": true
   },
   "outputs": [],
   "source": [
    "pred_y = kmean(df_pd , k = 3 , n_iters = 50 , randm_clust_iters=5)"
   ]
  },
  {
   "cell_type": "markdown",
   "metadata": {},
   "source": [
    "<h3>Checking ouput or predicted clusters with original dependent variable of iris data set.</h3>"
   ]
  },
  {
   "cell_type": "code",
   "execution_count": 20,
   "metadata": {},
   "outputs": [
    {
     "name": "stdout",
     "output_type": "stream",
     "text": [
      "confusion matrix :\n",
      "[[50  0  0]\n",
      " [ 6 43  1]\n",
      " [ 1  8 41]]\n",
      "accuracy score :\n",
      "0.893333333333\n"
     ]
    }
   ],
   "source": [
    "print(\"confusion matrix :\")\n",
    "print(confusion_matrix(iris.target , pred_y))\n",
    "print(\"accuracy score :\")\n",
    "print(accuracy_score(iris.target , pred_y))"
   ]
  },
  {
   "cell_type": "code",
   "execution_count": 21,
   "metadata": {},
   "outputs": [
    {
     "data": {
      "text/html": [
       "<div>\n",
       "<style>\n",
       "    .dataframe thead tr:only-child th {\n",
       "        text-align: right;\n",
       "    }\n",
       "\n",
       "    .dataframe thead th {\n",
       "        text-align: left;\n",
       "    }\n",
       "\n",
       "    .dataframe tbody tr th {\n",
       "        vertical-align: top;\n",
       "    }\n",
       "</style>\n",
       "<table border=\"1\" class=\"dataframe\">\n",
       "  <thead>\n",
       "    <tr style=\"text-align: right;\">\n",
       "      <th></th>\n",
       "      <th>sepal length (cm)</th>\n",
       "      <th>sepal width (cm)</th>\n",
       "      <th>petal length (cm)</th>\n",
       "      <th>petal width (cm)</th>\n",
       "      <th>predict_y</th>\n",
       "    </tr>\n",
       "  </thead>\n",
       "  <tbody>\n",
       "    <tr>\n",
       "      <th>0</th>\n",
       "      <td>5.1</td>\n",
       "      <td>3.5</td>\n",
       "      <td>1.4</td>\n",
       "      <td>0.2</td>\n",
       "      <td>0</td>\n",
       "    </tr>\n",
       "    <tr>\n",
       "      <th>1</th>\n",
       "      <td>4.9</td>\n",
       "      <td>3.0</td>\n",
       "      <td>1.4</td>\n",
       "      <td>0.2</td>\n",
       "      <td>0</td>\n",
       "    </tr>\n",
       "    <tr>\n",
       "      <th>2</th>\n",
       "      <td>4.7</td>\n",
       "      <td>3.2</td>\n",
       "      <td>1.3</td>\n",
       "      <td>0.2</td>\n",
       "      <td>0</td>\n",
       "    </tr>\n",
       "    <tr>\n",
       "      <th>3</th>\n",
       "      <td>4.6</td>\n",
       "      <td>3.1</td>\n",
       "      <td>1.5</td>\n",
       "      <td>0.2</td>\n",
       "      <td>0</td>\n",
       "    </tr>\n",
       "    <tr>\n",
       "      <th>4</th>\n",
       "      <td>5.0</td>\n",
       "      <td>3.6</td>\n",
       "      <td>1.4</td>\n",
       "      <td>0.2</td>\n",
       "      <td>0</td>\n",
       "    </tr>\n",
       "  </tbody>\n",
       "</table>\n",
       "</div>"
      ],
      "text/plain": [
       "   sepal length (cm)  sepal width (cm)  petal length (cm)  petal width (cm)  \\\n",
       "0                5.1               3.5                1.4               0.2   \n",
       "1                4.9               3.0                1.4               0.2   \n",
       "2                4.7               3.2                1.3               0.2   \n",
       "3                4.6               3.1                1.5               0.2   \n",
       "4                5.0               3.6                1.4               0.2   \n",
       "\n",
       "   predict_y  \n",
       "0          0  \n",
       "1          0  \n",
       "2          0  \n",
       "3          0  \n",
       "4          0  "
      ]
     },
     "execution_count": 21,
     "metadata": {},
     "output_type": "execute_result"
    }
   ],
   "source": [
    "df_pd[\"predict_y\"] = pred_y\n",
    "df_pd.head()"
   ]
  },
  {
   "cell_type": "code",
   "execution_count": 22,
   "metadata": {},
   "outputs": [
    {
     "data": {
      "image/png": "[encoded data removed]",
      "text/plain": [
       "<matplotlib.figure.Figure at 0x200b2ef0208>"
      ]
     },
     "metadata": {},
     "output_type": "display_data"
    },
    {
     "data": {
      "image/png": "[encoded data removed]",
      "text/plain": [
       "<matplotlib.figure.Figure at 0x200b319f080>"
      ]
     },
     "metadata": {},
     "output_type": "display_data"
    }
   ],
   "source": [
    "plt.figure(1)\n",
    "plt.subplot(211)\n",
    "plt.scatter( df_pd[\"sepal width (cm)\"],df_pd[\"sepal length (cm)\"] ,\n",
    "                   c = df_pd[\"predict_y\"] ,s = 10)\n",
    "plt.xlabel(\"sepal width\")\n",
    "plt.ylabel(\"sepal length\")\n",
    "plt.show()\n",
    "\n",
    "plt.figure(1)\n",
    "plt.subplot(212)\n",
    "plt.scatter(df_pd['petal width (cm)'] , df_pd['petal length (cm)'] , \n",
    "                  c = df_pd[\"predict_y\"] , s = 10 )\n",
    "plt.xlabel(\"petal width\")\n",
    "plt.ylabel(\"petal length\")\n",
    "plt.show()"
   ]
  },
  {
   "cell_type": "markdown",
   "metadata": {},
   "source": [
    "<h3>K means using sklearn</h3>"
   ]
  },
  {
   "cell_type": "code",
   "execution_count": 26,
   "metadata": {},
   "outputs": [
    {
     "name": "stdout",
     "output_type": "stream",
     "text": [
      "[[ 0 50  0]\n",
      " [49  0  1]\n",
      " [ 6  0 44]]\n",
      "0.293333333333\n"
     ]
    }
   ],
   "source": [
    "df_ = pd.DataFrame(df_array , columns = col_names , index = None)\n",
    "from sklearn.cluster import KMeans\n",
    "algo = (KMeans(n_clusters=3))\n",
    "algo.fit(df_pd)\n",
    "pred_algo = algo.predict(df_pd)\n",
    "print(confusion_matrix(iris.target , pred_algo))\n",
    "print(accuracy_score(iris.target , pred_algo))"
   ]
  }
 ],
 "metadata": {
  "kernelspec": {
   "display_name": "Python 3",
   "language": "python",
   "name": "python3"
  },
  "language_info": {
   "codemirror_mode": {
    "name": "ipython",
    "version": 3
   },
   "file_extension": ".py",
   "mimetype": "text/x-python",
   "name": "python",
   "nbconvert_exporter": "python",
   "pygments_lexer": "ipython3",
   "version": "3.6.2"
  }
 },
 "nbformat": 4,
 "nbformat_minor": 2
}
